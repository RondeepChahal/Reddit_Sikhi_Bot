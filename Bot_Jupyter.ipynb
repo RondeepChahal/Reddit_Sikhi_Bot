{
 "cells": [
  {
   "cell_type": "code",
   "execution_count": 31,
   "metadata": {
    "collapsed": false
   },
   "outputs": [],
   "source": [
    "import praw\n",
    "import pdb\n",
    "import re\n",
    "import os"
   ]
  },
  {
   "cell_type": "code",
   "execution_count": 23,
   "metadata": {
    "collapsed": false
   },
   "outputs": [],
   "source": [
    "reddit = praw.Reddit('bot1')"
   ]
  },
  {
   "cell_type": "code",
   "execution_count": 24,
   "metadata": {
    "collapsed": true
   },
   "outputs": [],
   "source": [
    "subreddit = reddit.subreddit('sikh')"
   ]
  },
  {
   "cell_type": "code",
   "execution_count": 28,
   "metadata": {
    "collapsed": false
   },
   "outputs": [],
   "source": [
    "if not os.path.isfile(\"posts_replied_to.txt\"):\n",
    "    posts_replied_to =[]\n",
    "else:\n",
    "    with open(\"posts_replied_to.txt\",\"r\") as f:\n",
    "        posts_replied_to = f.read()\n",
    "        posts_replied_to = posts_replied_to.split(\"\\n\")\n",
    "        posts_replied_to = list(filter(None,posts_replied_to))"
   ]
  },
  {
   "cell_type": "code",
   "execution_count": 30,
   "metadata": {
    "collapsed": false
   },
   "outputs": [
    {
     "name": "stdout",
     "output_type": "stream",
     "text": [
      "('Bot replying to : ', u'A minister\\u2019s faith complicates Canada\\u2019s relations with India: How Harjit Sajjan\\u2019s Sikhism became a political issue')\n"
     ]
    }
   ],
   "source": [
    "subreddit = reddit.subreddit('sikh')\n",
    "for submission in subreddit.hot(limit=5):\n",
    "        if submission.id not in posts_replied_to:\n",
    "            if re.search(\"sikhism\", submission.title, re.IGNORECASE):\n",
    "                submission.reply(\"Thank you for your post. Its 'Sikhi', not 'Sikhism.'\")\n",
    "                print(\"Bot replying to : \", submission.title)\n",
    "                posts_replied_to.append(submission.id)"
   ]
  },
  {
   "cell_type": "code",
   "execution_count": 19,
   "metadata": {
    "collapsed": false
   },
   "outputs": [],
   "source": [
    "with open(\"posts_replied_to.txt\", \"w\") as f:\n",
    "    for post_id in posts_replied_to:\n",
    "        f.write(post_id + \"\\n\")"
   ]
  }
 ],
 "metadata": {
  "anaconda-cloud": {},
  "kernelspec": {
   "display_name": "Python [conda root]",
   "language": "python",
   "name": "conda-root-py"
  },
  "language_info": {
   "codemirror_mode": {
    "name": "ipython",
    "version": 2
   },
   "file_extension": ".py",
   "mimetype": "text/x-python",
   "name": "python",
   "nbconvert_exporter": "python",
   "pygments_lexer": "ipython2",
   "version": "2.7.12"
  }
 },
 "nbformat": 4,
 "nbformat_minor": 1
}
