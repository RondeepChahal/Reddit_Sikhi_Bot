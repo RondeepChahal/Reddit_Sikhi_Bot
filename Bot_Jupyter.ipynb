{
 "cells": [
  {
   "cell_type": "code",
   "execution_count": 1,
   "metadata": {
    "collapsed": false
   },
   "outputs": [],
   "source": [
    "import praw"
   ]
  },
  {
   "cell_type": "code",
   "execution_count": 2,
   "metadata": {
    "collapsed": false
   },
   "outputs": [
    {
     "data": {
      "text/plain": [
       "['Reddit',\n",
       " '__builtins__',\n",
       " '__doc__',\n",
       " '__file__',\n",
       " '__name__',\n",
       " '__package__',\n",
       " '__path__',\n",
       " '__version__',\n",
       " 'config',\n",
       " 'const',\n",
       " 'exceptions',\n",
       " 'models',\n",
       " 'objector',\n",
       " 'reddit']"
      ]
     },
     "execution_count": 2,
     "metadata": {},
     "output_type": "execute_result"
    }
   ],
   "source": [
    "dir(praw)"
   ]
  },
  {
   "cell_type": "code",
   "execution_count": 3,
   "metadata": {
    "collapsed": false
   },
   "outputs": [],
   "source": [
    "reddit = praw.Reddit('bot1')"
   ]
  },
  {
   "cell_type": "code",
   "execution_count": 4,
   "metadata": {
    "collapsed": true
   },
   "outputs": [],
   "source": [
    "subreddit = reddit.subreddit('sikh')"
   ]
  },
  {
   "cell_type": "code",
   "execution_count": 5,
   "metadata": {
    "collapsed": false
   },
   "outputs": [
    {
     "name": "stdout",
     "output_type": "stream",
     "text": [
      "('Title: ', u'New To /R/Sikh? Start By Posting Here And Introduce Yourself To Us!')\n",
      "('Text: ', u\"Waheguru Ji Ka Khalsa, Waheguru Ji Ki Fateh!\\n\\n/R/Sikh is definitely amongst the most active Sikh forums online and easily one of the fastest growing. We get a lot of new people on here from very diverse backgrounds- those who have been Sikh their entire life and are looking for like-minded people, those who left Sikhi and came back looking to rekindle their relationship with the community, those who converted from non-Sikh backgrounds and are trying to navigate the waters of integrating into a completely new religion as well as non-Sikhs who simply pop by to learn more about the religion.\\n\\nWhatever your background may be we understand it can sometimes be intimidating to start posting and getting involved in discussions when you are new to the forum community and don't know anybody yet. So to break the ice, use this thread as an opportunity to introduce yourself to us. Tell us a bit about yourself; your background, whether you are a Sikh or not, what brings you to the forum and what you are hoping to gain from /r/sikh- we'd love to hear anything you're comfortable sharing with us! And once you see that we're actually quite nice hopefully you won't have an issue joining us in the rest of the forum :<)\\n\\nSo if you're new to /r/Sikh and just getting started here, or haven't posted much in the sub and want to formally introduce yourself, we'd love to know a bit more about who you are and how we can help!\\n\\n**IMPORTANT NOTE**: This is *NOT* a thread for asking questions about Sikhi. We love to help people out with their questions but please make a separate thread for them as this one is *ONLY* for introductions. Thank you! :) \")\n",
      "('Score: ', 51)\n",
      "---------------------------\n",
      "\n",
      "('Title: ', u'Advice needed: Asking out a girl at Gurdwara?')\n",
      "('Text: ', u\"WJKK, WKJF, \\n\\nSo what do you guys think of this? There's this girl that goes to the same Gurdwara that I go to that I'm interested in, would it be considered a bad thing if I asked for her number? There aren't any Sikh girls at my college so that's why I was thinking of this but I'm  a bit nervous as to what might go on (I'm in the U.S. if that helps). \\n\\nEdit: I don't know if I'll actually do this because I'm so nervous, just asking for advice. Also, if someone's ever asked a girl out or done something similar let me know how it went. \\n\\nThank you\")\n",
      "('Score: ', 2)\n",
      "---------------------------\n",
      "\n",
      "('Title: ', u'The Resourceful Fakirs of The Sikh Empire')\n",
      "('Text: ', u'')\n",
      "('Score: ', 2)\n",
      "---------------------------\n",
      "\n",
      "('Title: ', u'Written by an Aussie, why I love Sikhism.')\n",
      "('Text: ', u'')\n",
      "('Score: ', 0)\n",
      "---------------------------\n",
      "\n",
      "('Title: ', u'The Turbulent Years After Maharaja Ranjit Singh')\n",
      "('Text: ', u'')\n",
      "('Score: ', 1)\n",
      "---------------------------\n",
      "\n"
     ]
    }
   ],
   "source": [
    "for submission in subreddit.hot(limit=5):\n",
    "    print(\"Title: \", submission.title)\n",
    "    print(\"Text: \", submission.selftext)\n",
    "    print(\"Score: \", submission.score)\n",
    "    print(\"---------------------------\\n\")"
   ]
  },
  {
   "cell_type": "code",
   "execution_count": 6,
   "metadata": {
    "collapsed": false
   },
   "outputs": [
    {
     "data": {
      "text/plain": [
       "['STR_FIELD',\n",
       " '__class__',\n",
       " '__delattr__',\n",
       " '__dict__',\n",
       " '__doc__',\n",
       " '__eq__',\n",
       " '__format__',\n",
       " '__getattr__',\n",
       " '__getattribute__',\n",
       " '__hash__',\n",
       " '__init__',\n",
       " '__module__',\n",
       " '__ne__',\n",
       " '__new__',\n",
       " '__reduce__',\n",
       " '__reduce_ex__',\n",
       " '__repr__',\n",
       " '__setattr__',\n",
       " '__sizeof__',\n",
       " '__str__',\n",
       " '__subclasshook__',\n",
       " '__weakref__',\n",
       " '_comments_by_id',\n",
       " '_fetch',\n",
       " '_fetched',\n",
       " '_flair',\n",
       " '_info_params',\n",
       " '_info_path',\n",
       " '_mod',\n",
       " '_reddit',\n",
       " '_reset_attributes',\n",
       " '_safely_add_arguments',\n",
       " '_vote',\n",
       " 'approved_by',\n",
       " 'archived',\n",
       " 'author',\n",
       " 'author_flair_css_class',\n",
       " 'author_flair_text',\n",
       " 'banned_by',\n",
       " 'brand_safe',\n",
       " 'can_gild',\n",
       " 'clear_vote',\n",
       " 'clicked',\n",
       " 'comment_limit',\n",
       " 'comment_sort',\n",
       " 'comments',\n",
       " 'contest_mode',\n",
       " 'created',\n",
       " 'created_utc',\n",
       " 'delete',\n",
       " 'distinguished',\n",
       " 'domain',\n",
       " 'downs',\n",
       " 'downvote',\n",
       " 'duplicates',\n",
       " 'edit',\n",
       " 'edited',\n",
       " 'flair',\n",
       " 'fullname',\n",
       " 'gild',\n",
       " 'gilded',\n",
       " 'hidden',\n",
       " 'hide',\n",
       " 'hide_score',\n",
       " 'id',\n",
       " 'id_from_url',\n",
       " 'is_self',\n",
       " 'likes',\n",
       " 'link_flair_css_class',\n",
       " 'link_flair_text',\n",
       " 'locked',\n",
       " 'media',\n",
       " 'media_embed',\n",
       " 'mod',\n",
       " 'mod_reports',\n",
       " 'name',\n",
       " 'num_comments',\n",
       " 'num_reports',\n",
       " 'over_18',\n",
       " 'parse',\n",
       " 'permalink',\n",
       " 'quarantine',\n",
       " 'removal_reason',\n",
       " 'reply',\n",
       " 'report',\n",
       " 'report_reasons',\n",
       " 'save',\n",
       " 'saved',\n",
       " 'score',\n",
       " 'secure_media',\n",
       " 'secure_media_embed',\n",
       " 'selftext',\n",
       " 'selftext_html',\n",
       " 'shortlink',\n",
       " 'spoiler',\n",
       " 'stickied',\n",
       " 'subreddit',\n",
       " 'subreddit_id',\n",
       " 'subreddit_name_prefixed',\n",
       " 'subreddit_type',\n",
       " 'suggested_sort',\n",
       " 'thumbnail',\n",
       " 'title',\n",
       " 'unhide',\n",
       " 'unsave',\n",
       " 'ups',\n",
       " 'upvote',\n",
       " 'url',\n",
       " 'user_reports',\n",
       " 'view_count',\n",
       " 'visited']"
      ]
     },
     "execution_count": 6,
     "metadata": {},
     "output_type": "execute_result"
    }
   ],
   "source": [
    "dir(submission)"
   ]
  },
  {
   "cell_type": "code",
   "execution_count": 7,
   "metadata": {
    "collapsed": true
   },
   "outputs": [],
   "source": [
    "import praw\n",
    "import pdb\n",
    "import re\n",
    "import os"
   ]
  },
  {
   "cell_type": "code",
   "execution_count": 8,
   "metadata": {
    "collapsed": false
   },
   "outputs": [],
   "source": [
    "if not os.path.isfile(\"posts_replied_to.txt\"):\n",
    "    posts_replied_to =[]\n",
    "else:\n",
    "    with open(\"posts_replied_to.txt\",\"r\") as f:\n",
    "        posts_replied_to = f.read()\n",
    "        posts_replied_to = posts_replied_to.split(\"\\n\")\n",
    "        posts_replied_to = list(filter(None,posts_replied_to))"
   ]
  },
  {
   "cell_type": "code",
   "execution_count": 9,
   "metadata": {
    "collapsed": false
   },
   "outputs": [
    {
     "data": {
      "text/plain": [
       "['2maolz', '2mans2', '2m6th9', '2m6tfg', '2mapgg']"
      ]
     },
     "execution_count": 9,
     "metadata": {},
     "output_type": "execute_result"
    }
   ],
   "source": [
    "posts_replied_to"
   ]
  },
  {
   "cell_type": "code",
   "execution_count": 17,
   "metadata": {
    "collapsed": false
   },
   "outputs": [
    {
     "name": "stdout",
     "output_type": "stream",
     "text": [
      "('Bot replying to : ', u'Written by an Aussie, why I love Sikhism.')\n"
     ]
    }
   ],
   "source": [
    "subreddit = reddit.subreddit('sikh')\n",
    "for submission in subreddit.hot(limit=5):\n",
    "        if submission.id not in posts_replied_to:\n",
    "            if re.search(\"sikhism\", submission.title, re.IGNORECASE):\n",
    "                submission.reply(\"Thank you for your post. Its 'Sikhi', not 'Sikhism.'\")\n",
    "                print(\"Bot replying to : \", submission.title)\n",
    "                posts_replied_to.append(submission.id)"
   ]
  },
  {
   "cell_type": "code",
   "execution_count": 19,
   "metadata": {
    "collapsed": false
   },
   "outputs": [],
   "source": [
    "with open(\"posts_replied_to.txt\", \"w\") as f:\n",
    "    for post_id in posts_replied_to:\n",
    "        f.write(post_id + \"\\n\")"
   ]
  },
  {
   "cell_type": "code",
   "execution_count": 18,
   "metadata": {
    "collapsed": false
   },
   "outputs": [
    {
     "data": {
      "text/plain": [
       "u''"
      ]
     },
     "execution_count": 18,
     "metadata": {},
     "output_type": "execute_result"
    }
   ],
   "source": []
  },
  {
   "cell_type": "code",
   "execution_count": null,
   "metadata": {
    "collapsed": true
   },
   "outputs": [],
   "source": []
  }
 ],
 "metadata": {
  "anaconda-cloud": {},
  "kernelspec": {
   "display_name": "Python [conda root]",
   "language": "python",
   "name": "conda-root-py"
  },
  "language_info": {
   "codemirror_mode": {
    "name": "ipython",
    "version": 2
   },
   "file_extension": ".py",
   "mimetype": "text/x-python",
   "name": "python",
   "nbconvert_exporter": "python",
   "pygments_lexer": "ipython2",
   "version": "2.7.12"
  }
 },
 "nbformat": 4,
 "nbformat_minor": 1
}
