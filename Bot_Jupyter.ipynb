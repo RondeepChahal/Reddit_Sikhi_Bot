{
 "cells": [
  {
   "cell_type": "code",
   "execution_count": 1,
   "metadata": {
    "collapsed": false
   },
   "outputs": [],
   "source": [
    "# praw = python reddit api wrapper, re = regular expression\n",
    "import praw\n",
    "import pdb\n",
    "import re\n",
    "import os"
   ]
  },
  {
   "cell_type": "code",
   "execution_count": 2,
   "metadata": {
    "collapsed": false
   },
   "outputs": [
    {
     "name": "stdout",
     "output_type": "stream",
     "text": [
      "Version 4.5.0 of praw is outdated. Version 4.5.1 was released 1 day ago.\n"
     ]
    }
   ],
   "source": [
    "reddit = praw.Reddit('bot1')"
   ]
  },
  {
   "cell_type": "code",
   "execution_count": 3,
   "metadata": {
    "collapsed": true
   },
   "outputs": [],
   "source": [
    "subreddit = reddit.subreddit('sikh')"
   ]
  },
  {
   "cell_type": "code",
   "execution_count": 4,
   "metadata": {
    "collapsed": false
   },
   "outputs": [],
   "source": [
    "if not os.path.isfile(\"posts_replied_to.txt\"):\n",
    "    posts_replied_to =[]\n",
    "else:\n",
    "    with open(\"posts_replied_to.txt\",\"r\") as f:\n",
    "        posts_replied_to = f.read()\n",
    "        posts_replied_to = posts_replied_to.split(\"\\n\")\n",
    "        posts_replied_to = list(filter(None,posts_replied_to))"
   ]
  },
  {
   "cell_type": "code",
   "execution_count": 5,
   "metadata": {
    "collapsed": false
   },
   "outputs": [],
   "source": [
    "subreddit = reddit.subreddit('sikh')\n",
    "for submission in subreddit.hot(limit=5):\n",
    "        if submission.id not in posts_replied_to:\n",
    "            if re.search(\"sikhism\", str([submission.selftext, submission.title]), re.IGNORECASE):\n",
    "                if re.search(\"sikhi\", str([submission.selftext, submission.title]), re.IGNORECASE):\n",
    "                    pass\n",
    "                else:\n",
    "                    submission.reply(\"Thank you for your post. It's 'Sikhi', not 'Sikhism'.\")\n",
    "                    print(\"Bot replying to : \", submission.title)\n",
    "                    posts_replied_to.append(submission.id)"
   ]
  },
  {
   "cell_type": "code",
   "execution_count": 6,
   "metadata": {
    "collapsed": false
   },
   "outputs": [],
   "source": [
    "with open(\"posts_replied_to.txt\", \"w\") as f:\n",
    "    for post_id in posts_replied_to:\n",
    "        f.write(post_id + \"\\n\")"
   ]
  }
 ],
 "metadata": {
  "anaconda-cloud": {},
  "kernelspec": {
   "display_name": "Python [conda root]",
   "language": "python",
   "name": "conda-root-py"
  },
  "language_info": {
   "codemirror_mode": {
    "name": "ipython",
    "version": 2
   },
   "file_extension": ".py",
   "mimetype": "text/x-python",
   "name": "python",
   "nbconvert_exporter": "python",
   "pygments_lexer": "ipython2",
   "version": "2.7.12"
  }
 },
 "nbformat": 4,
 "nbformat_minor": 1
}
